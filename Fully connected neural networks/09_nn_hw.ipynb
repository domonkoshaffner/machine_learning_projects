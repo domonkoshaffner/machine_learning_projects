{
 "cells": [
  {
   "cell_type": "markdown",
   "metadata": {},
   "source": [
    "# Fully connected neural networks\n",
    "\n",
    "<u>On kooplex tensorflow 2 does not work, please work on Google Colab and then upload your solution to kooplex! Also, on Google Colab you can use GPUs</u>\n",
    "\n",
    "\n",
    "This week we will use the MNIST handwritten digits dataset! The weights.npy file is provided, which contains the weight vector for a traines fully connected neural network."
   ]
  },
  {
   "cell_type": "code",
   "execution_count": 1,
   "metadata": {},
   "outputs": [],
   "source": [
    "#importing the libraries\n",
    "\n",
    "import numpy as np\n",
    "import matplotlib.pyplot as plt\n",
    "\n",
    "from tensorflow import keras\n",
    "import tensorflow\n",
    "\n",
    "from sklearn.metrics import confusion_matrix\n",
    "import seaborn as sns\n",
    "\n",
    "import tqdm\n",
    "\n",
    "from sklearn.metrics import accuracy_score\n",
    "\n",
    "#importing the dataset\n",
    "\n",
    "(x_train, y_train), (x_test, y_test) = keras.datasets.mnist.load_data()"
   ]
  },
  {
   "cell_type": "code",
   "execution_count": 2,
   "metadata": {},
   "outputs": [],
   "source": [
    "#loading the weights and biases\n",
    "\n",
    "w = np.load('weights.npy', allow_pickle=True)\n",
    "\n",
    "#reshaping the dataset\n",
    "\n",
    "x_train = x_train.reshape(60000, 28*28)/255\n",
    "x_test = x_test.reshape(10000, 28*28)/255\n",
    "\n",
    "#transforming to categorical values\n",
    "\n",
    "y_train_oh = keras.utils.to_categorical(y_train)\n",
    "y_test_oh = keras.utils.to_categorical(y_test)"
   ]
  },
  {
   "cell_type": "markdown",
   "metadata": {},
   "source": [
    "## 1 - 2. Implement fully connected neural network via using only numpy\n",
    "\n",
    "In this task we need to implement a small fully connected neural network that can generate predictions for us if we provide the weights and the input data!\n",
    "\n",
    " - implement the following function:\n",
    " ```python\n",
    " def pred_nn(weights, x_test):\n",
    "    ...\n",
    "    return predictions\n",
    " ```\n",
    " - x_test has a shape of (N_samples, 784)\n",
    " - predictions has a shape of (N_samples, 10)\n",
    " - then function implements a fully connected neural network with the follwing layers:\n",
    "    - 750 neuron, relu activation\n",
    "    - 500 neuron, relu activation\n",
    "    - 500 neuron, relu activation\n",
    "    - 10 neuron, softmax activation\n",
    " - weights is a numpy array of the weights\n",
    "    - 1st element is a shape of (784, 750), 2nd is (750,), the bias\n",
    "    - 3rd element is a shape of (750, 500), 4th is (500,)\n",
    "    ... the rest matches the weight dimensions of the above-mentioned architecture\n",
    " - use numpy's built-in vectorized operations, try not to write for loops!\n",
    "    \n",
    "An optimally implemented function runs < 1s for N_samples = 10.000 "
   ]
  },
  {
   "cell_type": "code",
   "execution_count": 3,
   "metadata": {},
   "outputs": [],
   "source": [
    "#creating the manual NN\n",
    "\n",
    "def pred_nn(w, x_test):\n",
    "    \n",
    "    #creating the predictions\n",
    "    \n",
    "    x1 = np.matmul(x_test, w[0]) + w[1]\n",
    "    x1[x1<0]=0\n",
    "\n",
    "    x2 = np.matmul(x1, w[2]) + w[3]\n",
    "    x2[x2<0]=0\n",
    "\n",
    "    x3 = np.matmul(x2, w[4]) + w[5]\n",
    "    x3[x3<0]=0\n",
    "\n",
    "    x4 = np.matmul(x3, w[6]) + w[7]\n",
    "    e = np.exp(x4)\n",
    "    result =  e / e.sum()\n",
    "    \n",
    "    return result"
   ]
  },
  {
   "cell_type": "markdown",
   "metadata": {},
   "source": [
    "## 3.  Same architecture via tensorflow/keras\n",
    "\n",
    " - Implement the same architecture with tensorflow/keras as we did in 1-2). \n",
    " - Load the provided weights for the neural network!"
   ]
  },
  {
   "cell_type": "code",
   "execution_count": 4,
   "metadata": {
    "scrolled": false
   },
   "outputs": [
    {
     "name": "stdout",
     "output_type": "stream",
     "text": [
      "Model: \"sequential\"\n",
      "_________________________________________________________________\n",
      "Layer (type)                 Output Shape              Param #   \n",
      "=================================================================\n",
      "dense (Dense)                (None, 750)               588750    \n",
      "_________________________________________________________________\n",
      "dense_1 (Dense)              (None, 500)               375500    \n",
      "_________________________________________________________________\n",
      "dense_2 (Dense)              (None, 500)               250500    \n",
      "_________________________________________________________________\n",
      "dense_3 (Dense)              (None, 10)                5010      \n",
      "=================================================================\n",
      "Total params: 1,219,760\n",
      "Trainable params: 1,219,760\n",
      "Non-trainable params: 0\n",
      "_________________________________________________________________\n"
     ]
    }
   ],
   "source": [
    "#creating the model with keras\n",
    "\n",
    "model = keras.Sequential()\n",
    "\n",
    "#loading the weights from the np.array\n",
    "\n",
    "model.add(keras.layers.Dense(750, activation='relu', input_dim=784))\n",
    "model.layers[0].set_weights([w[0],w[1]])\n",
    "\n",
    "model.add(keras.layers.Dense(500, activation='relu'))\n",
    "model.layers[1].set_weights([w[2],w[3]])\n",
    "\n",
    "model.add(keras.layers.Dense(500, activation='relu'))\n",
    "model.layers[2].set_weights([w[4],w[5]])\n",
    "\n",
    "model.add(keras.layers.Dense(10, activation='softmax'))\n",
    "model.layers[3].set_weights([w[6],w[7]])\n",
    "\n",
    "\n",
    "#checking the parameters\n",
    "\n",
    "model.summary()"
   ]
  },
  {
   "cell_type": "markdown",
   "metadata": {},
   "source": [
    "## 4-5. Compate performances\n",
    " - load the MNIST dataset from the tensorflow/keras built-in dataset\n",
    " - use the original train/test split!\n",
    " - divide each pixel's value by 255 & reshape to have 1D input vector (784) instead of the 2D matrix (28x28)\n",
    "   - eg for the test set you will have a (10000, 784) shaped vector\n",
    " - generate prediction for the 10.000 test images with both methods!\n",
    " - calculate the categorical cross-entropy loss and the accuracy for both methods! are they the same? (if not, it indicates a bug somewhere...) Hint: you should get ~97% accuracy\n",
    " - show the confusion matrix of the predictions (predicted values vs actual labels)\n",
    " - where does the model make mistakes?"
   ]
  },
  {
   "cell_type": "markdown",
   "metadata": {},
   "source": [
    "### First method: the custom neural network"
   ]
  },
  {
   "cell_type": "code",
   "execution_count": 5,
   "metadata": {},
   "outputs": [],
   "source": [
    "#calling the function\n",
    "\n",
    "custom_nn_pred = pred_nn(w, x_test)\n",
    "\n",
    "#creating the predictions as classes\n",
    "\n",
    "predicted_classes_cust = []\n",
    "\n",
    "for i in range(0,len(custom_nn_pred)):\n",
    "\n",
    "    ind = list(custom_nn_pred[i]).index(np.max(custom_nn_pred[i]))\n",
    "    predicted_classes_cust.append(ind)\n",
    "    \n",
    "#creating the confusion matrix    \n",
    "\n",
    "confusion_matrix_values_custom = confusion_matrix(y_test, predicted_classes_cust)"
   ]
  },
  {
   "cell_type": "markdown",
   "metadata": {},
   "source": [
    "### Second method: The keras neural network"
   ]
  },
  {
   "cell_type": "code",
   "execution_count": 6,
   "metadata": {},
   "outputs": [],
   "source": [
    "#compiling the model\n",
    "\n",
    "model.compile(loss='categorical_crossentropy', optimizer=keras.optimizers.SGD(lr=1e-2), metrics=['accuracy'])"
   ]
  },
  {
   "cell_type": "markdown",
   "metadata": {},
   "source": [
    "#### Calculating the predictions"
   ]
  },
  {
   "cell_type": "code",
   "execution_count": 7,
   "metadata": {},
   "outputs": [],
   "source": [
    "#predicting the values\n",
    "\n",
    "predictions = model.predict(x_test)\n",
    "predicted_classes = model.predict_classes(x_test)\n",
    "\n",
    "#creating the values for the confusion matrix\n",
    "\n",
    "confusion_matrix_values_keras = confusion_matrix(y_test, predicted_classes)"
   ]
  },
  {
   "cell_type": "markdown",
   "metadata": {},
   "source": [
    "#### Creating the confusion matrices"
   ]
  },
  {
   "cell_type": "code",
   "execution_count": 8,
   "metadata": {},
   "outputs": [
    {
     "data": {
      "image/png": "[encoded data removed]",
      "text/plain": [
       "<Figure size 720x504 with 2 Axes>"
      ]
     },
     "metadata": {
      "needs_background": "light"
     },
     "output_type": "display_data"
    }
   ],
   "source": [
    "plt.subplots(figsize=(10,7))\n",
    "\n",
    "x_axis_labels = ['0', '1', '2', '3', '4', '5', '6', '7', '8', '9']\n",
    "y_axis_labels = ['0', '1', '2', '3', '4', '5', '6', '7', '8', '9']\n",
    "\n",
    "p1 = sns.heatmap(confusion_matrix_values_custom, xticklabels=x_axis_labels, yticklabels=y_axis_labels, annot=True, fmt=\"d\")\n",
    "\n",
    "plt.xlabel('Real values')\n",
    "plt.ylabel('Predicted values')\n",
    "plt.title('Heatmap of the real and predicted values of MNIST dataset - custom NN', fontsize=15)\n",
    "\n",
    "plt.show()"
   ]
  },
  {
   "cell_type": "markdown",
   "metadata": {},
   "source": [
    "#### Plotting the confusion matrix"
   ]
  },
  {
   "cell_type": "code",
   "execution_count": 9,
   "metadata": {},
   "outputs": [
    {
     "data": {
      "image/png": "[encoded data removed]",
      "text/plain": [
       "<Figure size 720x504 with 2 Axes>"
      ]
     },
     "metadata": {
      "needs_background": "light"
     },
     "output_type": "display_data"
    }
   ],
   "source": [
    "plt.subplots(figsize=(10,7))\n",
    "\n",
    "x_axis_labels = ['0', '1', '2', '3', '4', '5', '6', '7', '8', '9']\n",
    "y_axis_labels = ['0', '1', '2', '3', '4', '5', '6', '7', '8', '9']\n",
    "\n",
    "p1 = sns.heatmap(confusion_matrix_values_keras, xticklabels=x_axis_labels, yticklabels=y_axis_labels, annot=True, fmt=\"d\")\n",
    "\n",
    "plt.xlabel('Real values')\n",
    "plt.ylabel('Predicted values')\n",
    "plt.title('Heatmap of the real and predicted values of MNIST dataset - keras NN', fontsize=15)\n",
    "\n",
    "plt.show()"
   ]
  },
  {
   "cell_type": "markdown",
   "metadata": {},
   "source": [
    "### Results\n",
    "\n",
    "As it's seen, the confusion matrices are the same. Let's notice, that there are more than average mistakes in the predictions at the cases of:\n",
    " - 7 - 9 - they are very similar in the way they are written\n",
    " - 3 - 9 - they are both spheric on their right parts\n",
    " - 4 - 9 \n",
    " - 5 - 3 - quite similar in their lower part\n",
    " - 8 - 3 - 3 is basically a half 8, so they are quite similar\n",
    " \n",
    "This was a brief explanation of the mistakes I found in the predictions. I couldn't see why the NN would mistake the fours to nines. Let's check out the accuracies and the crossentropies now!"
   ]
  },
  {
   "cell_type": "code",
   "execution_count": 10,
   "metadata": {},
   "outputs": [
    {
     "name": "stdout",
     "output_type": "stream",
     "text": [
      "The accuracy for the manually built NN: 0.9708\n",
      "The accuracy for the keras NN: 0.9708\n"
     ]
    }
   ],
   "source": [
    "acc_cust_nn = accuracy_score(y_test, predicted_classes_cust)\n",
    "acc_keras = accuracy_score(y_test, predicted_classes)\n",
    "\n",
    "print('The accuracy for the manually built NN:', round(acc_cust_nn,6))\n",
    "print('The accuracy for the keras NN:', round(acc_keras,6))"
   ]
  },
  {
   "cell_type": "markdown",
   "metadata": {},
   "source": [
    "As it's seen, the accuracies are the same. What about the crossentropy? First we need to call the function which calculates it!"
   ]
  },
  {
   "cell_type": "code",
   "execution_count": 11,
   "metadata": {},
   "outputs": [
    {
     "name": "stdout",
     "output_type": "stream",
     "text": [
      "The categorical crossentropy for the manually built NN is: 0.095857\n",
      "The categorical crossentropy for the keras NN is: 0.095857\n"
     ]
    }
   ],
   "source": [
    "#categorical corrsentropy function\n",
    "\n",
    "cce = tensorflow.keras.losses.CategoricalCrossentropy()\n",
    "\n",
    "#calculating it for the different NN\n",
    "\n",
    "custom_nn_cce = cce(y_test_oh, custom_nn_pred).numpy()\n",
    "keras_nn_cce = cce(y_test_oh, predictions).numpy()\n",
    "\n",
    "#printing the results\n",
    "\n",
    "print('The categorical crossentropy for the manually built NN is:', round(custom_nn_cce,6))\n",
    "print('The categorical crossentropy for the keras NN is:', round(custom_nn_cce,6))"
   ]
  },
  {
   "cell_type": "markdown",
   "metadata": {},
   "source": [
    "As it's seen, they are the same, which concludes this homework."
   ]
  },
  {
   "cell_type": "code",
   "execution_count": null,
   "metadata": {},
   "outputs": [],
   "source": []
  }
 ],
 "metadata": {
  "kernelspec": {
   "display_name": "Python 3",
   "language": "python",
   "name": "python3"
  },
  "language_info": {
   "codemirror_mode": {
    "name": "ipython",
    "version": 3
   },
   "file_extension": ".py",
   "mimetype": "text/x-python",
   "name": "python",
   "nbconvert_exporter": "python",
   "pygments_lexer": "ipython3",
   "version": "3.7.4"
  }
 },
 "nbformat": 4,
 "nbformat_minor": 4
}

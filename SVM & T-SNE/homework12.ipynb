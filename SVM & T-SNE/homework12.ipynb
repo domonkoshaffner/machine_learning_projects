{
 "cells": [
  {
   "cell_type": "markdown",
   "metadata": {},
   "source": [
    "## Last homework\n",
    "This week we will apply techniques learned during the semester as a recap of the learned methods. We will use a dataset from the paper \"Hurricane-induced selection on the morphology of an island lizard\", where body parameters of lizards are measured on an island before and after the hurricane. We will make binary predictions if a lizard was measured before of after the hurricane in the upcoming tasks.\n",
    "\n",
    "When a task is not fully described, try to come up with a reasonable solution!\n",
    "\n",
    "Data source: https://www.nature.com/articles/s41586-018-0352-3#Sec7"
   ]
  },
  {
   "cell_type": "code",
   "execution_count": 1,
   "metadata": {},
   "outputs": [],
   "source": [
    "#import the nccessary libraries\n",
    "\n",
    "import numpy as np\n",
    "import pandas as pd\n",
    "import matplotlib.pyplot as plt\n",
    "from matplotlib.lines import Line2D\n",
    "import sklearn\n",
    "\n",
    "#from sklearn.datasets import * \n",
    "from sklearn.linear_model import LogisticRegression,LinearRegression\n",
    "from sklearn import datasets, metrics\n",
    "from sklearn.decomposition import PCA\n",
    "from sklearn.svm import SVC\n",
    "from sklearn import svm\n",
    "from sklearn.metrics import confusion_matrix, roc_curve,  accuracy_score, roc_auc_score\n",
    "from sklearn.manifold import TSNE\n",
    "from sklearn.ensemble import RandomForestClassifier\n",
    "\n",
    "from sklearn.model_selection import cross_val_predict, train_test_split, cross_val_score, GridSearchCV\n",
    "\n",
    "import seaborn as sns\n",
    "\n",
    "import collections"
   ]
  },
  {
   "cell_type": "markdown",
   "metadata": {},
   "source": [
    "### 1. Load & prepare data\n",
    " - load the provided dataset\n",
    " - look for missing values, handle them! Be careful! (You can screw up the whole assignment here)\n",
    " - We will make binary predictions if a lizard was before of after the hurricane in the upcoming tasks.\n",
    " - Convert all the features to numeric or binary features.\n",
    " - get rid of the ID column"
   ]
  },
  {
   "cell_type": "code",
   "execution_count": 2,
   "metadata": {},
   "outputs": [
    {
     "data": {
      "text/html": [
       "<div>\n",
       "<style scoped>\n",
       "    .dataframe tbody tr th:only-of-type {\n",
       "        vertical-align: middle;\n",
       "    }\n",
       "\n",
       "    .dataframe tbody tr th {\n",
       "        vertical-align: top;\n",
       "    }\n",
       "\n",
       "    .dataframe thead th {\n",
       "        text-align: right;\n",
       "    }\n",
       "</style>\n",
       "<table border=\"1\" class=\"dataframe\">\n",
       "  <thead>\n",
       "    <tr style=\"text-align: right;\">\n",
       "      <th></th>\n",
       "      <th>ID</th>\n",
       "      <th>Hurricane</th>\n",
       "      <th>Origin</th>\n",
       "      <th>Sex</th>\n",
       "      <th>SVL</th>\n",
       "      <th>Femur</th>\n",
       "      <th>Tibia</th>\n",
       "      <th>Metatarsal</th>\n",
       "      <th>LongestToe</th>\n",
       "      <th>Humerus</th>\n",
       "      <th>...</th>\n",
       "      <th>FingerArea2</th>\n",
       "      <th>FingerArea3</th>\n",
       "      <th>ToeArea1</th>\n",
       "      <th>ToeArea2</th>\n",
       "      <th>ToeArea3</th>\n",
       "      <th>MeanFingerArea</th>\n",
       "      <th>MeanToeArea</th>\n",
       "      <th>SumFingers</th>\n",
       "      <th>SumToes</th>\n",
       "      <th>MaxFingerForce</th>\n",
       "    </tr>\n",
       "  </thead>\n",
       "  <tbody>\n",
       "    <tr>\n",
       "      <th>0</th>\n",
       "      <td>537</td>\n",
       "      <td>After</td>\n",
       "      <td>Pine Cay</td>\n",
       "      <td>Male</td>\n",
       "      <td>48.69</td>\n",
       "      <td>10.39</td>\n",
       "      <td>11.87</td>\n",
       "      <td>7.52</td>\n",
       "      <td>7.43</td>\n",
       "      <td>8.66</td>\n",
       "      <td>...</td>\n",
       "      <td>1.338</td>\n",
       "      <td>1.339</td>\n",
       "      <td>2.529</td>\n",
       "      <td>2.402</td>\n",
       "      <td>2.369</td>\n",
       "      <td>1.332667</td>\n",
       "      <td>2.433333</td>\n",
       "      <td>2.663</td>\n",
       "      <td>4.791</td>\n",
       "      <td>0.116</td>\n",
       "    </tr>\n",
       "    <tr>\n",
       "      <th>1</th>\n",
       "      <td>539</td>\n",
       "      <td>After</td>\n",
       "      <td>Pine Cay</td>\n",
       "      <td>Female</td>\n",
       "      <td>40.31</td>\n",
       "      <td>8.66</td>\n",
       "      <td>9.79</td>\n",
       "      <td>6.18</td>\n",
       "      <td>6.20</td>\n",
       "      <td>8.01</td>\n",
       "      <td>...</td>\n",
       "      <td>0.950</td>\n",
       "      <td>0.972</td>\n",
       "      <td>1.498</td>\n",
       "      <td>1.525</td>\n",
       "      <td>1.530</td>\n",
       "      <td>0.961333</td>\n",
       "      <td>1.517667</td>\n",
       "      <td>2.595</td>\n",
       "      <td>3.678</td>\n",
       "      <td>0.048</td>\n",
       "    </tr>\n",
       "    <tr>\n",
       "      <th>2</th>\n",
       "      <td>540</td>\n",
       "      <td>After</td>\n",
       "      <td>Pine Cay</td>\n",
       "      <td>Male</td>\n",
       "      <td>58.30</td>\n",
       "      <td>12.87</td>\n",
       "      <td>14.76</td>\n",
       "      <td>9.45</td>\n",
       "      <td>9.58</td>\n",
       "      <td>11.72</td>\n",
       "      <td>...</td>\n",
       "      <td>2.702</td>\n",
       "      <td>2.685</td>\n",
       "      <td>4.157</td>\n",
       "      <td>4.140</td>\n",
       "      <td>3.996</td>\n",
       "      <td>2.631333</td>\n",
       "      <td>4.097667</td>\n",
       "      <td>7.347</td>\n",
       "      <td>4.682</td>\n",
       "      <td>0.424</td>\n",
       "    </tr>\n",
       "    <tr>\n",
       "      <th>3</th>\n",
       "      <td>541</td>\n",
       "      <td>After</td>\n",
       "      <td>Pine Cay</td>\n",
       "      <td>Female</td>\n",
       "      <td>43.15</td>\n",
       "      <td>8.55</td>\n",
       "      <td>10.29</td>\n",
       "      <td>6.60</td>\n",
       "      <td>6.26</td>\n",
       "      <td>7.43</td>\n",
       "      <td>...</td>\n",
       "      <td>1.175</td>\n",
       "      <td>1.186</td>\n",
       "      <td>1.898</td>\n",
       "      <td>1.871</td>\n",
       "      <td>1.867</td>\n",
       "      <td>1.177667</td>\n",
       "      <td>1.878667</td>\n",
       "      <td>2.786</td>\n",
       "      <td>5.378</td>\n",
       "      <td>0.171</td>\n",
       "    </tr>\n",
       "    <tr>\n",
       "      <th>4</th>\n",
       "      <td>542</td>\n",
       "      <td>After</td>\n",
       "      <td>Pine Cay</td>\n",
       "      <td>Female</td>\n",
       "      <td>45.51</td>\n",
       "      <td>10.26</td>\n",
       "      <td>11.02</td>\n",
       "      <td>6.89</td>\n",
       "      <td>7.02</td>\n",
       "      <td>7.71</td>\n",
       "      <td>...</td>\n",
       "      <td>1.357</td>\n",
       "      <td>1.420</td>\n",
       "      <td>2.627</td>\n",
       "      <td>2.435</td>\n",
       "      <td>2.529</td>\n",
       "      <td>1.384333</td>\n",
       "      <td>2.530333</td>\n",
       "      <td>3.575</td>\n",
       "      <td>6.646</td>\n",
       "      <td>0.014</td>\n",
       "    </tr>\n",
       "  </tbody>\n",
       "</table>\n",
       "<p>5 rows × 26 columns</p>\n",
       "</div>"
      ],
      "text/plain": [
       "    ID Hurricane    Origin     Sex    SVL  Femur  Tibia  Metatarsal  \\\n",
       "0  537     After  Pine Cay    Male  48.69  10.39  11.87        7.52   \n",
       "1  539     After  Pine Cay  Female  40.31   8.66   9.79        6.18   \n",
       "2  540     After  Pine Cay    Male  58.30  12.87  14.76        9.45   \n",
       "3  541     After  Pine Cay  Female  43.15   8.55  10.29        6.60   \n",
       "4  542     After  Pine Cay  Female  45.51  10.26  11.02        6.89   \n",
       "\n",
       "   LongestToe  Humerus  ...  FingerArea2  FingerArea3  ToeArea1  ToeArea2  \\\n",
       "0        7.43     8.66  ...        1.338        1.339     2.529     2.402   \n",
       "1        6.20     8.01  ...        0.950        0.972     1.498     1.525   \n",
       "2        9.58    11.72  ...        2.702        2.685     4.157     4.140   \n",
       "3        6.26     7.43  ...        1.175        1.186     1.898     1.871   \n",
       "4        7.02     7.71  ...        1.357        1.420     2.627     2.435   \n",
       "\n",
       "   ToeArea3  MeanFingerArea  MeanToeArea  SumFingers  SumToes  MaxFingerForce  \n",
       "0     2.369        1.332667     2.433333       2.663    4.791           0.116  \n",
       "1     1.530        0.961333     1.517667       2.595    3.678           0.048  \n",
       "2     3.996        2.631333     4.097667       7.347    4.682           0.424  \n",
       "3     1.867        1.177667     1.878667       2.786    5.378           0.171  \n",
       "4     2.529        1.384333     2.530333       3.575    6.646           0.014  \n",
       "\n",
       "[5 rows x 26 columns]"
      ]
     },
     "execution_count": 2,
     "metadata": {},
     "output_type": "execute_result"
    }
   ],
   "source": [
    "#reading in the data\n",
    "\n",
    "lizards_data = pd.read_csv(\"Donihue 2018-01-00672 Hurricanes Data.csv\")\n",
    "lizards_data.head()"
   ]
  },
  {
   "cell_type": "code",
   "execution_count": 3,
   "metadata": {},
   "outputs": [
    {
     "data": {
      "text/html": [
       "<div>\n",
       "<style scoped>\n",
       "    .dataframe tbody tr th:only-of-type {\n",
       "        vertical-align: middle;\n",
       "    }\n",
       "\n",
       "    .dataframe tbody tr th {\n",
       "        vertical-align: top;\n",
       "    }\n",
       "\n",
       "    .dataframe thead th {\n",
       "        text-align: right;\n",
       "    }\n",
       "</style>\n",
       "<table border=\"1\" class=\"dataframe\">\n",
       "  <thead>\n",
       "    <tr style=\"text-align: right;\">\n",
       "      <th></th>\n",
       "      <th>Hurricane</th>\n",
       "      <th>Origin</th>\n",
       "      <th>Sex</th>\n",
       "      <th>SVL</th>\n",
       "      <th>Femur</th>\n",
       "      <th>Tibia</th>\n",
       "      <th>Metatarsal</th>\n",
       "      <th>LongestToe</th>\n",
       "      <th>Humerus</th>\n",
       "      <th>Radius</th>\n",
       "      <th>...</th>\n",
       "      <th>FingerArea2</th>\n",
       "      <th>FingerArea3</th>\n",
       "      <th>ToeArea1</th>\n",
       "      <th>ToeArea2</th>\n",
       "      <th>ToeArea3</th>\n",
       "      <th>MeanFingerArea</th>\n",
       "      <th>MeanToeArea</th>\n",
       "      <th>SumFingers</th>\n",
       "      <th>SumToes</th>\n",
       "      <th>MaxFingerForce</th>\n",
       "    </tr>\n",
       "  </thead>\n",
       "  <tbody>\n",
       "    <tr>\n",
       "      <th>0</th>\n",
       "      <td>After</td>\n",
       "      <td>Pine Cay</td>\n",
       "      <td>Male</td>\n",
       "      <td>48.69</td>\n",
       "      <td>10.39</td>\n",
       "      <td>11.87</td>\n",
       "      <td>7.52</td>\n",
       "      <td>7.43</td>\n",
       "      <td>8.66</td>\n",
       "      <td>7.99</td>\n",
       "      <td>...</td>\n",
       "      <td>1.338</td>\n",
       "      <td>1.339</td>\n",
       "      <td>2.529</td>\n",
       "      <td>2.402</td>\n",
       "      <td>2.369</td>\n",
       "      <td>1.332667</td>\n",
       "      <td>2.433333</td>\n",
       "      <td>2.663</td>\n",
       "      <td>4.791</td>\n",
       "      <td>0.116</td>\n",
       "    </tr>\n",
       "    <tr>\n",
       "      <th>1</th>\n",
       "      <td>After</td>\n",
       "      <td>Pine Cay</td>\n",
       "      <td>Female</td>\n",
       "      <td>40.31</td>\n",
       "      <td>8.66</td>\n",
       "      <td>9.79</td>\n",
       "      <td>6.18</td>\n",
       "      <td>6.20</td>\n",
       "      <td>8.01</td>\n",
       "      <td>6.51</td>\n",
       "      <td>...</td>\n",
       "      <td>0.950</td>\n",
       "      <td>0.972</td>\n",
       "      <td>1.498</td>\n",
       "      <td>1.525</td>\n",
       "      <td>1.530</td>\n",
       "      <td>0.961333</td>\n",
       "      <td>1.517667</td>\n",
       "      <td>2.595</td>\n",
       "      <td>3.678</td>\n",
       "      <td>0.048</td>\n",
       "    </tr>\n",
       "    <tr>\n",
       "      <th>2</th>\n",
       "      <td>After</td>\n",
       "      <td>Pine Cay</td>\n",
       "      <td>Male</td>\n",
       "      <td>58.30</td>\n",
       "      <td>12.87</td>\n",
       "      <td>14.76</td>\n",
       "      <td>9.45</td>\n",
       "      <td>9.58</td>\n",
       "      <td>11.72</td>\n",
       "      <td>9.54</td>\n",
       "      <td>...</td>\n",
       "      <td>2.702</td>\n",
       "      <td>2.685</td>\n",
       "      <td>4.157</td>\n",
       "      <td>4.140</td>\n",
       "      <td>3.996</td>\n",
       "      <td>2.631333</td>\n",
       "      <td>4.097667</td>\n",
       "      <td>7.347</td>\n",
       "      <td>4.682</td>\n",
       "      <td>0.424</td>\n",
       "    </tr>\n",
       "    <tr>\n",
       "      <th>3</th>\n",
       "      <td>After</td>\n",
       "      <td>Pine Cay</td>\n",
       "      <td>Female</td>\n",
       "      <td>43.15</td>\n",
       "      <td>8.55</td>\n",
       "      <td>10.29</td>\n",
       "      <td>6.60</td>\n",
       "      <td>6.26</td>\n",
       "      <td>7.43</td>\n",
       "      <td>6.60</td>\n",
       "      <td>...</td>\n",
       "      <td>1.175</td>\n",
       "      <td>1.186</td>\n",
       "      <td>1.898</td>\n",
       "      <td>1.871</td>\n",
       "      <td>1.867</td>\n",
       "      <td>1.177667</td>\n",
       "      <td>1.878667</td>\n",
       "      <td>2.786</td>\n",
       "      <td>5.378</td>\n",
       "      <td>0.171</td>\n",
       "    </tr>\n",
       "    <tr>\n",
       "      <th>4</th>\n",
       "      <td>After</td>\n",
       "      <td>Pine Cay</td>\n",
       "      <td>Female</td>\n",
       "      <td>45.51</td>\n",
       "      <td>10.26</td>\n",
       "      <td>11.02</td>\n",
       "      <td>6.89</td>\n",
       "      <td>7.02</td>\n",
       "      <td>7.71</td>\n",
       "      <td>7.25</td>\n",
       "      <td>...</td>\n",
       "      <td>1.357</td>\n",
       "      <td>1.420</td>\n",
       "      <td>2.627</td>\n",
       "      <td>2.435</td>\n",
       "      <td>2.529</td>\n",
       "      <td>1.384333</td>\n",
       "      <td>2.530333</td>\n",
       "      <td>3.575</td>\n",
       "      <td>6.646</td>\n",
       "      <td>0.014</td>\n",
       "    </tr>\n",
       "  </tbody>\n",
       "</table>\n",
       "<p>5 rows × 25 columns</p>\n",
       "</div>"
      ],
      "text/plain": [
       "  Hurricane    Origin     Sex    SVL  Femur  Tibia  Metatarsal  LongestToe  \\\n",
       "0     After  Pine Cay    Male  48.69  10.39  11.87        7.52        7.43   \n",
       "1     After  Pine Cay  Female  40.31   8.66   9.79        6.18        6.20   \n",
       "2     After  Pine Cay    Male  58.30  12.87  14.76        9.45        9.58   \n",
       "3     After  Pine Cay  Female  43.15   8.55  10.29        6.60        6.26   \n",
       "4     After  Pine Cay  Female  45.51  10.26  11.02        6.89        7.02   \n",
       "\n",
       "   Humerus  Radius  ...  FingerArea2  FingerArea3  ToeArea1  ToeArea2  \\\n",
       "0     8.66    7.99  ...        1.338        1.339     2.529     2.402   \n",
       "1     8.01    6.51  ...        0.950        0.972     1.498     1.525   \n",
       "2    11.72    9.54  ...        2.702        2.685     4.157     4.140   \n",
       "3     7.43    6.60  ...        1.175        1.186     1.898     1.871   \n",
       "4     7.71    7.25  ...        1.357        1.420     2.627     2.435   \n",
       "\n",
       "   ToeArea3  MeanFingerArea  MeanToeArea  SumFingers  SumToes  MaxFingerForce  \n",
       "0     2.369        1.332667     2.433333       2.663    4.791           0.116  \n",
       "1     1.530        0.961333     1.517667       2.595    3.678           0.048  \n",
       "2     3.996        2.631333     4.097667       7.347    4.682           0.424  \n",
       "3     1.867        1.177667     1.878667       2.786    5.378           0.171  \n",
       "4     2.529        1.384333     2.530333       3.575    6.646           0.014  \n",
       "\n",
       "[5 rows x 25 columns]"
      ]
     },
     "execution_count": 3,
     "metadata": {},
     "output_type": "execute_result"
    }
   ],
   "source": [
    "#dropping the ID column\n",
    "\n",
    "lizards_data_modif = lizards_data.drop(columns = ['ID'])\n",
    "lizards_data_modif.head()"
   ]
  },
  {
   "cell_type": "code",
   "execution_count": 4,
   "metadata": {},
   "outputs": [
    {
     "data": {
      "image/png": "[encoded data removed]",
      "text/plain": [
       "<Figure size 72x720 with 1 Axes>"
      ]
     },
     "metadata": {
      "needs_background": "light"
     },
     "output_type": "display_data"
    }
   ],
   "source": [
    "#checking the missing values\n",
    "\n",
    "plt.figure(figsize=(1,10))\n",
    "plt.imshow(lizards_data_modif.isna())\n",
    "plt.show()"
   ]
  },
  {
   "cell_type": "markdown",
   "metadata": {},
   "source": [
    "After observing the dataset, I realised that three valeus are missing for all the lizards which were observed before the storm. Since these are only informative by the lizards which were observed after the storm, these three features can be eliminated."
   ]
  },
  {
   "cell_type": "code",
   "execution_count": 5,
   "metadata": {},
   "outputs": [
    {
     "data": {
      "text/html": [
       "<div>\n",
       "<style scoped>\n",
       "    .dataframe tbody tr th:only-of-type {\n",
       "        vertical-align: middle;\n",
       "    }\n",
       "\n",
       "    .dataframe tbody tr th {\n",
       "        vertical-align: top;\n",
       "    }\n",
       "\n",
       "    .dataframe thead th {\n",
       "        text-align: right;\n",
       "    }\n",
       "</style>\n",
       "<table border=\"1\" class=\"dataframe\">\n",
       "  <thead>\n",
       "    <tr style=\"text-align: right;\">\n",
       "      <th></th>\n",
       "      <th>Hurricane</th>\n",
       "      <th>Origin</th>\n",
       "      <th>Sex</th>\n",
       "      <th>SVL</th>\n",
       "      <th>Femur</th>\n",
       "      <th>Tibia</th>\n",
       "      <th>Metatarsal</th>\n",
       "      <th>LongestToe</th>\n",
       "      <th>Humerus</th>\n",
       "      <th>Radius</th>\n",
       "      <th>...</th>\n",
       "      <th>FingerCount</th>\n",
       "      <th>ToeCount</th>\n",
       "      <th>FingerArea1</th>\n",
       "      <th>FingerArea2</th>\n",
       "      <th>FingerArea3</th>\n",
       "      <th>ToeArea1</th>\n",
       "      <th>ToeArea2</th>\n",
       "      <th>ToeArea3</th>\n",
       "      <th>MeanFingerArea</th>\n",
       "      <th>MeanToeArea</th>\n",
       "    </tr>\n",
       "  </thead>\n",
       "  <tbody>\n",
       "    <tr>\n",
       "      <th>0</th>\n",
       "      <td>After</td>\n",
       "      <td>Pine Cay</td>\n",
       "      <td>Male</td>\n",
       "      <td>48.69</td>\n",
       "      <td>10.39</td>\n",
       "      <td>11.87</td>\n",
       "      <td>7.52</td>\n",
       "      <td>7.43</td>\n",
       "      <td>8.66</td>\n",
       "      <td>7.99</td>\n",
       "      <td>...</td>\n",
       "      <td>10.0</td>\n",
       "      <td>12.0</td>\n",
       "      <td>1.321</td>\n",
       "      <td>1.338</td>\n",
       "      <td>1.339</td>\n",
       "      <td>2.529</td>\n",
       "      <td>2.402</td>\n",
       "      <td>2.369</td>\n",
       "      <td>1.332667</td>\n",
       "      <td>2.433333</td>\n",
       "    </tr>\n",
       "    <tr>\n",
       "      <th>1</th>\n",
       "      <td>After</td>\n",
       "      <td>Pine Cay</td>\n",
       "      <td>Female</td>\n",
       "      <td>40.31</td>\n",
       "      <td>8.66</td>\n",
       "      <td>9.79</td>\n",
       "      <td>6.18</td>\n",
       "      <td>6.20</td>\n",
       "      <td>8.01</td>\n",
       "      <td>6.51</td>\n",
       "      <td>...</td>\n",
       "      <td>10.0</td>\n",
       "      <td>13.0</td>\n",
       "      <td>0.962</td>\n",
       "      <td>0.950</td>\n",
       "      <td>0.972</td>\n",
       "      <td>1.498</td>\n",
       "      <td>1.525</td>\n",
       "      <td>1.530</td>\n",
       "      <td>0.961333</td>\n",
       "      <td>1.517667</td>\n",
       "    </tr>\n",
       "    <tr>\n",
       "      <th>2</th>\n",
       "      <td>After</td>\n",
       "      <td>Pine Cay</td>\n",
       "      <td>Male</td>\n",
       "      <td>58.30</td>\n",
       "      <td>12.87</td>\n",
       "      <td>14.76</td>\n",
       "      <td>9.45</td>\n",
       "      <td>9.58</td>\n",
       "      <td>11.72</td>\n",
       "      <td>9.54</td>\n",
       "      <td>...</td>\n",
       "      <td>14.0</td>\n",
       "      <td>15.0</td>\n",
       "      <td>2.507</td>\n",
       "      <td>2.702</td>\n",
       "      <td>2.685</td>\n",
       "      <td>4.157</td>\n",
       "      <td>4.140</td>\n",
       "      <td>3.996</td>\n",
       "      <td>2.631333</td>\n",
       "      <td>4.097667</td>\n",
       "    </tr>\n",
       "    <tr>\n",
       "      <th>3</th>\n",
       "      <td>After</td>\n",
       "      <td>Pine Cay</td>\n",
       "      <td>Female</td>\n",
       "      <td>43.15</td>\n",
       "      <td>8.55</td>\n",
       "      <td>10.29</td>\n",
       "      <td>6.60</td>\n",
       "      <td>6.26</td>\n",
       "      <td>7.43</td>\n",
       "      <td>6.60</td>\n",
       "      <td>...</td>\n",
       "      <td>11.0</td>\n",
       "      <td>12.0</td>\n",
       "      <td>1.172</td>\n",
       "      <td>1.175</td>\n",
       "      <td>1.186</td>\n",
       "      <td>1.898</td>\n",
       "      <td>1.871</td>\n",
       "      <td>1.867</td>\n",
       "      <td>1.177667</td>\n",
       "      <td>1.878667</td>\n",
       "    </tr>\n",
       "    <tr>\n",
       "      <th>4</th>\n",
       "      <td>After</td>\n",
       "      <td>Pine Cay</td>\n",
       "      <td>Female</td>\n",
       "      <td>45.51</td>\n",
       "      <td>10.26</td>\n",
       "      <td>11.02</td>\n",
       "      <td>6.89</td>\n",
       "      <td>7.02</td>\n",
       "      <td>7.71</td>\n",
       "      <td>7.25</td>\n",
       "      <td>...</td>\n",
       "      <td>11.0</td>\n",
       "      <td>13.0</td>\n",
       "      <td>1.376</td>\n",
       "      <td>1.357</td>\n",
       "      <td>1.420</td>\n",
       "      <td>2.627</td>\n",
       "      <td>2.435</td>\n",
       "      <td>2.529</td>\n",
       "      <td>1.384333</td>\n",
       "      <td>2.530333</td>\n",
       "    </tr>\n",
       "  </tbody>\n",
       "</table>\n",
       "<p>5 rows × 22 columns</p>\n",
       "</div>"
      ],
      "text/plain": [
       "  Hurricane    Origin     Sex    SVL  Femur  Tibia  Metatarsal  LongestToe  \\\n",
       "0     After  Pine Cay    Male  48.69  10.39  11.87        7.52        7.43   \n",
       "1     After  Pine Cay  Female  40.31   8.66   9.79        6.18        6.20   \n",
       "2     After  Pine Cay    Male  58.30  12.87  14.76        9.45        9.58   \n",
       "3     After  Pine Cay  Female  43.15   8.55  10.29        6.60        6.26   \n",
       "4     After  Pine Cay  Female  45.51  10.26  11.02        6.89        7.02   \n",
       "\n",
       "   Humerus  Radius  ...  FingerCount  ToeCount  FingerArea1  FingerArea2  \\\n",
       "0     8.66    7.99  ...         10.0      12.0        1.321        1.338   \n",
       "1     8.01    6.51  ...         10.0      13.0        0.962        0.950   \n",
       "2    11.72    9.54  ...         14.0      15.0        2.507        2.702   \n",
       "3     7.43    6.60  ...         11.0      12.0        1.172        1.175   \n",
       "4     7.71    7.25  ...         11.0      13.0        1.376        1.357   \n",
       "\n",
       "   FingerArea3  ToeArea1  ToeArea2  ToeArea3  MeanFingerArea  MeanToeArea  \n",
       "0        1.339     2.529     2.402     2.369        1.332667     2.433333  \n",
       "1        0.972     1.498     1.525     1.530        0.961333     1.517667  \n",
       "2        2.685     4.157     4.140     3.996        2.631333     4.097667  \n",
       "3        1.186     1.898     1.871     1.867        1.177667     1.878667  \n",
       "4        1.420     2.627     2.435     2.529        1.384333     2.530333  \n",
       "\n",
       "[5 rows x 22 columns]"
      ]
     },
     "execution_count": 5,
     "metadata": {},
     "output_type": "execute_result"
    }
   ],
   "source": [
    "#removing the three features\n",
    "\n",
    "lizards_data_modif = lizards_data_modif.drop(columns = ['SumFingers', 'SumToes', 'MaxFingerForce'])\n",
    "lizards_data_modif.head()"
   ]
  },
  {
   "cell_type": "code",
   "execution_count": 6,
   "metadata": {},
   "outputs": [
    {
     "data": {
      "image/png": "[encoded data removed]",
      "text/plain": [
       "<Figure size 72x720 with 1 Axes>"
      ]
     },
     "metadata": {
      "needs_background": "light"
     },
     "output_type": "display_data"
    }
   ],
   "source": [
    "#checking the missing values\n",
    "\n",
    "plt.figure(figsize=(1,10))\n",
    "plt.imshow(lizards_data_modif.isna())\n",
    "plt.show()"
   ]
  },
  {
   "cell_type": "markdown",
   "metadata": {},
   "source": [
    "Since there is one more row which has missing values, let's remove this too!"
   ]
  },
  {
   "cell_type": "code",
   "execution_count": 7,
   "metadata": {},
   "outputs": [
    {
     "data": {
      "image/png": "[encoded data removed]",
      "text/plain": [
       "<Figure size 72x720 with 1 Axes>"
      ]
     },
     "metadata": {
      "needs_background": "light"
     },
     "output_type": "display_data"
    }
   ],
   "source": [
    "#removing the 39th row\n",
    "\n",
    "lizards_data_modif = lizards_data_modif.drop([39])\n",
    "\n",
    "#checking the missing values\n",
    "\n",
    "plt.figure(figsize=(1,10))\n",
    "plt.imshow(lizards_data_modif.isna())\n",
    "plt.show()"
   ]
  },
  {
   "cell_type": "code",
   "execution_count": 8,
   "metadata": {},
   "outputs": [
    {
     "data": {
      "text/plain": [
       "Counter({'Pine Cay': 78, 'Water Cay': 85})"
      ]
     },
     "execution_count": 8,
     "metadata": {},
     "output_type": "execute_result"
    }
   ],
   "source": [
    "#checking the locations \n",
    "\n",
    "collections.Counter(lizards_data_modif['Origin'])"
   ]
  },
  {
   "cell_type": "code",
   "execution_count": 9,
   "metadata": {},
   "outputs": [
    {
     "data": {
      "text/html": [
       "<div>\n",
       "<style scoped>\n",
       "    .dataframe tbody tr th:only-of-type {\n",
       "        vertical-align: middle;\n",
       "    }\n",
       "\n",
       "    .dataframe tbody tr th {\n",
       "        vertical-align: top;\n",
       "    }\n",
       "\n",
       "    .dataframe thead th {\n",
       "        text-align: right;\n",
       "    }\n",
       "</style>\n",
       "<table border=\"1\" class=\"dataframe\">\n",
       "  <thead>\n",
       "    <tr style=\"text-align: right;\">\n",
       "      <th></th>\n",
       "      <th>Hurricane</th>\n",
       "      <th>Origin</th>\n",
       "      <th>Sex</th>\n",
       "      <th>SVL</th>\n",
       "      <th>Femur</th>\n",
       "      <th>Tibia</th>\n",
       "      <th>Metatarsal</th>\n",
       "      <th>LongestToe</th>\n",
       "      <th>Humerus</th>\n",
       "      <th>Radius</th>\n",
       "      <th>...</th>\n",
       "      <th>FingerCount</th>\n",
       "      <th>ToeCount</th>\n",
       "      <th>FingerArea1</th>\n",
       "      <th>FingerArea2</th>\n",
       "      <th>FingerArea3</th>\n",
       "      <th>ToeArea1</th>\n",
       "      <th>ToeArea2</th>\n",
       "      <th>ToeArea3</th>\n",
       "      <th>MeanFingerArea</th>\n",
       "      <th>MeanToeArea</th>\n",
       "    </tr>\n",
       "  </thead>\n",
       "  <tbody>\n",
       "    <tr>\n",
       "      <th>0</th>\n",
       "      <td>1</td>\n",
       "      <td>0</td>\n",
       "      <td>1</td>\n",
       "      <td>48.69</td>\n",
       "      <td>10.39</td>\n",
       "      <td>11.87</td>\n",
       "      <td>7.52</td>\n",
       "      <td>7.43</td>\n",
       "      <td>8.66</td>\n",
       "      <td>7.99</td>\n",
       "      <td>...</td>\n",
       "      <td>10.0</td>\n",
       "      <td>12.0</td>\n",
       "      <td>1.321</td>\n",
       "      <td>1.338</td>\n",
       "      <td>1.339</td>\n",
       "      <td>2.529</td>\n",
       "      <td>2.402</td>\n",
       "      <td>2.369</td>\n",
       "      <td>1.332667</td>\n",
       "      <td>2.433333</td>\n",
       "    </tr>\n",
       "    <tr>\n",
       "      <th>1</th>\n",
       "      <td>1</td>\n",
       "      <td>0</td>\n",
       "      <td>0</td>\n",
       "      <td>40.31</td>\n",
       "      <td>8.66</td>\n",
       "      <td>9.79</td>\n",
       "      <td>6.18</td>\n",
       "      <td>6.20</td>\n",
       "      <td>8.01</td>\n",
       "      <td>6.51</td>\n",
       "      <td>...</td>\n",
       "      <td>10.0</td>\n",
       "      <td>13.0</td>\n",
       "      <td>0.962</td>\n",
       "      <td>0.950</td>\n",
       "      <td>0.972</td>\n",
       "      <td>1.498</td>\n",
       "      <td>1.525</td>\n",
       "      <td>1.530</td>\n",
       "      <td>0.961333</td>\n",
       "      <td>1.517667</td>\n",
       "    </tr>\n",
       "    <tr>\n",
       "      <th>2</th>\n",
       "      <td>1</td>\n",
       "      <td>0</td>\n",
       "      <td>1</td>\n",
       "      <td>58.30</td>\n",
       "      <td>12.87</td>\n",
       "      <td>14.76</td>\n",
       "      <td>9.45</td>\n",
       "      <td>9.58</td>\n",
       "      <td>11.72</td>\n",
       "      <td>9.54</td>\n",
       "      <td>...</td>\n",
       "      <td>14.0</td>\n",
       "      <td>15.0</td>\n",
       "      <td>2.507</td>\n",
       "      <td>2.702</td>\n",
       "      <td>2.685</td>\n",
       "      <td>4.157</td>\n",
       "      <td>4.140</td>\n",
       "      <td>3.996</td>\n",
       "      <td>2.631333</td>\n",
       "      <td>4.097667</td>\n",
       "    </tr>\n",
       "    <tr>\n",
       "      <th>3</th>\n",
       "      <td>1</td>\n",
       "      <td>0</td>\n",
       "      <td>0</td>\n",
       "      <td>43.15</td>\n",
       "      <td>8.55</td>\n",
       "      <td>10.29</td>\n",
       "      <td>6.60</td>\n",
       "      <td>6.26</td>\n",
       "      <td>7.43</td>\n",
       "      <td>6.60</td>\n",
       "      <td>...</td>\n",
       "      <td>11.0</td>\n",
       "      <td>12.0</td>\n",
       "      <td>1.172</td>\n",
       "      <td>1.175</td>\n",
       "      <td>1.186</td>\n",
       "      <td>1.898</td>\n",
       "      <td>1.871</td>\n",
       "      <td>1.867</td>\n",
       "      <td>1.177667</td>\n",
       "      <td>1.878667</td>\n",
       "    </tr>\n",
       "    <tr>\n",
       "      <th>4</th>\n",
       "      <td>1</td>\n",
       "      <td>0</td>\n",
       "      <td>0</td>\n",
       "      <td>45.51</td>\n",
       "      <td>10.26</td>\n",
       "      <td>11.02</td>\n",
       "      <td>6.89</td>\n",
       "      <td>7.02</td>\n",
       "      <td>7.71</td>\n",
       "      <td>7.25</td>\n",
       "      <td>...</td>\n",
       "      <td>11.0</td>\n",
       "      <td>13.0</td>\n",
       "      <td>1.376</td>\n",
       "      <td>1.357</td>\n",
       "      <td>1.420</td>\n",
       "      <td>2.627</td>\n",
       "      <td>2.435</td>\n",
       "      <td>2.529</td>\n",
       "      <td>1.384333</td>\n",
       "      <td>2.530333</td>\n",
       "    </tr>\n",
       "  </tbody>\n",
       "</table>\n",
       "<p>5 rows × 22 columns</p>\n",
       "</div>"
      ],
      "text/plain": [
       "   Hurricane  Origin  Sex    SVL  Femur  Tibia  Metatarsal  LongestToe  \\\n",
       "0          1       0    1  48.69  10.39  11.87        7.52        7.43   \n",
       "1          1       0    0  40.31   8.66   9.79        6.18        6.20   \n",
       "2          1       0    1  58.30  12.87  14.76        9.45        9.58   \n",
       "3          1       0    0  43.15   8.55  10.29        6.60        6.26   \n",
       "4          1       0    0  45.51  10.26  11.02        6.89        7.02   \n",
       "\n",
       "   Humerus  Radius  ...  FingerCount  ToeCount  FingerArea1  FingerArea2  \\\n",
       "0     8.66    7.99  ...         10.0      12.0        1.321        1.338   \n",
       "1     8.01    6.51  ...         10.0      13.0        0.962        0.950   \n",
       "2    11.72    9.54  ...         14.0      15.0        2.507        2.702   \n",
       "3     7.43    6.60  ...         11.0      12.0        1.172        1.175   \n",
       "4     7.71    7.25  ...         11.0      13.0        1.376        1.357   \n",
       "\n",
       "   FingerArea3  ToeArea1  ToeArea2  ToeArea3  MeanFingerArea  MeanToeArea  \n",
       "0        1.339     2.529     2.402     2.369        1.332667     2.433333  \n",
       "1        0.972     1.498     1.525     1.530        0.961333     1.517667  \n",
       "2        2.685     4.157     4.140     3.996        2.631333     4.097667  \n",
       "3        1.186     1.898     1.871     1.867        1.177667     1.878667  \n",
       "4        1.420     2.627     2.435     2.529        1.384333     2.530333  \n",
       "\n",
       "[5 rows x 22 columns]"
      ]
     },
     "execution_count": 9,
     "metadata": {},
     "output_type": "execute_result"
    }
   ],
   "source": [
    "#replacing the hurricane, sex and origin features with numeric values\n",
    "\n",
    "lizards_data_num = lizards_data_modif.replace('After', 1)\n",
    "lizards_data_num = lizards_data_num .replace('Before', 0)\n",
    "\n",
    "lizards_data_num = lizards_data_num.replace('Female', 0)\n",
    "lizards_data_num = lizards_data_num .replace('Male', 1)\n",
    "\n",
    "lizards_data_num = lizards_data_num.replace('Pine Cay', 0)\n",
    "lizards_data_num = lizards_data_num .replace('Water Cay', 1)\n",
    "\n",
    "lizards_data_num.head()"
   ]
  },
  {
   "cell_type": "markdown",
   "metadata": {},
   "source": [
    "### 2. T-SNE\n",
    " - embed the data points into a 2D space via T-SNE (preprocess the data if needed). For embedding, use only the numerical features (So do not use Sex, Hurricane and Origin features)\n",
    " - what is common in the clusters that we got? visualize the embedded points by using different colour for the different fetautre values (eg on a plot show the female gekkos with red and the male ones with blue). Explore at least 4 features! Do we get separation by the Hurricane variable?"
   ]
  },
  {
   "cell_type": "code",
   "execution_count": 10,
   "metadata": {},
   "outputs": [
    {
     "data": {
      "text/html": [
       "<div>\n",
       "<style scoped>\n",
       "    .dataframe tbody tr th:only-of-type {\n",
       "        vertical-align: middle;\n",
       "    }\n",
       "\n",
       "    .dataframe tbody tr th {\n",
       "        vertical-align: top;\n",
       "    }\n",
       "\n",
       "    .dataframe thead th {\n",
       "        text-align: right;\n",
       "    }\n",
       "</style>\n",
       "<table border=\"1\" class=\"dataframe\">\n",
       "  <thead>\n",
       "    <tr style=\"text-align: right;\">\n",
       "      <th></th>\n",
       "      <th>SVL</th>\n",
       "      <th>Femur</th>\n",
       "      <th>Tibia</th>\n",
       "      <th>Metatarsal</th>\n",
       "      <th>LongestToe</th>\n",
       "      <th>Humerus</th>\n",
       "      <th>Radius</th>\n",
       "      <th>Metacarpal</th>\n",
       "      <th>LongestFinger</th>\n",
       "      <th>FingerCount</th>\n",
       "      <th>ToeCount</th>\n",
       "      <th>FingerArea1</th>\n",
       "      <th>FingerArea2</th>\n",
       "      <th>FingerArea3</th>\n",
       "      <th>ToeArea1</th>\n",
       "      <th>ToeArea2</th>\n",
       "      <th>ToeArea3</th>\n",
       "      <th>MeanFingerArea</th>\n",
       "      <th>MeanToeArea</th>\n",
       "    </tr>\n",
       "  </thead>\n",
       "  <tbody>\n",
       "    <tr>\n",
       "      <th>0</th>\n",
       "      <td>48.69</td>\n",
       "      <td>10.39</td>\n",
       "      <td>11.87</td>\n",
       "      <td>7.52</td>\n",
       "      <td>7.43</td>\n",
       "      <td>8.66</td>\n",
       "      <td>7.99</td>\n",
       "      <td>2.22</td>\n",
       "      <td>3.19</td>\n",
       "      <td>10.0</td>\n",
       "      <td>12.0</td>\n",
       "      <td>1.321</td>\n",
       "      <td>1.338</td>\n",
       "      <td>1.339</td>\n",
       "      <td>2.529</td>\n",
       "      <td>2.402</td>\n",
       "      <td>2.369</td>\n",
       "      <td>1.332667</td>\n",
       "      <td>2.433333</td>\n",
       "    </tr>\n",
       "    <tr>\n",
       "      <th>1</th>\n",
       "      <td>40.31</td>\n",
       "      <td>8.66</td>\n",
       "      <td>9.79</td>\n",
       "      <td>6.18</td>\n",
       "      <td>6.20</td>\n",
       "      <td>8.01</td>\n",
       "      <td>6.51</td>\n",
       "      <td>2.38</td>\n",
       "      <td>3.55</td>\n",
       "      <td>10.0</td>\n",
       "      <td>13.0</td>\n",
       "      <td>0.962</td>\n",
       "      <td>0.950</td>\n",
       "      <td>0.972</td>\n",
       "      <td>1.498</td>\n",
       "      <td>1.525</td>\n",
       "      <td>1.530</td>\n",
       "      <td>0.961333</td>\n",
       "      <td>1.517667</td>\n",
       "    </tr>\n",
       "    <tr>\n",
       "      <th>2</th>\n",
       "      <td>58.30</td>\n",
       "      <td>12.87</td>\n",
       "      <td>14.76</td>\n",
       "      <td>9.45</td>\n",
       "      <td>9.58</td>\n",
       "      <td>11.72</td>\n",
       "      <td>9.54</td>\n",
       "      <td>3.54</td>\n",
       "      <td>5.09</td>\n",
       "      <td>14.0</td>\n",
       "      <td>15.0</td>\n",
       "      <td>2.507</td>\n",
       "      <td>2.702</td>\n",
       "      <td>2.685</td>\n",
       "      <td>4.157</td>\n",
       "      <td>4.140</td>\n",
       "      <td>3.996</td>\n",
       "      <td>2.631333</td>\n",
       "      <td>4.097667</td>\n",
       "    </tr>\n",
       "    <tr>\n",
       "      <th>3</th>\n",
       "      <td>43.15</td>\n",
       "      <td>8.55</td>\n",
       "      <td>10.29</td>\n",
       "      <td>6.60</td>\n",
       "      <td>6.26</td>\n",
       "      <td>7.43</td>\n",
       "      <td>6.60</td>\n",
       "      <td>2.79</td>\n",
       "      <td>3.55</td>\n",
       "      <td>11.0</td>\n",
       "      <td>12.0</td>\n",
       "      <td>1.172</td>\n",
       "      <td>1.175</td>\n",
       "      <td>1.186</td>\n",
       "      <td>1.898</td>\n",
       "      <td>1.871</td>\n",
       "      <td>1.867</td>\n",
       "      <td>1.177667</td>\n",
       "      <td>1.878667</td>\n",
       "    </tr>\n",
       "    <tr>\n",
       "      <th>4</th>\n",
       "      <td>45.51</td>\n",
       "      <td>10.26</td>\n",
       "      <td>11.02</td>\n",
       "      <td>6.89</td>\n",
       "      <td>7.02</td>\n",
       "      <td>7.71</td>\n",
       "      <td>7.25</td>\n",
       "      <td>2.52</td>\n",
       "      <td>3.37</td>\n",
       "      <td>11.0</td>\n",
       "      <td>13.0</td>\n",
       "      <td>1.376</td>\n",
       "      <td>1.357</td>\n",
       "      <td>1.420</td>\n",
       "      <td>2.627</td>\n",
       "      <td>2.435</td>\n",
       "      <td>2.529</td>\n",
       "      <td>1.384333</td>\n",
       "      <td>2.530333</td>\n",
       "    </tr>\n",
       "  </tbody>\n",
       "</table>\n",
       "</div>"
      ],
      "text/plain": [
       "     SVL  Femur  Tibia  Metatarsal  LongestToe  Humerus  Radius  Metacarpal  \\\n",
       "0  48.69  10.39  11.87        7.52        7.43     8.66    7.99        2.22   \n",
       "1  40.31   8.66   9.79        6.18        6.20     8.01    6.51        2.38   \n",
       "2  58.30  12.87  14.76        9.45        9.58    11.72    9.54        3.54   \n",
       "3  43.15   8.55  10.29        6.60        6.26     7.43    6.60        2.79   \n",
       "4  45.51  10.26  11.02        6.89        7.02     7.71    7.25        2.52   \n",
       "\n",
       "   LongestFinger  FingerCount  ToeCount  FingerArea1  FingerArea2  \\\n",
       "0           3.19         10.0      12.0        1.321        1.338   \n",
       "1           3.55         10.0      13.0        0.962        0.950   \n",
       "2           5.09         14.0      15.0        2.507        2.702   \n",
       "3           3.55         11.0      12.0        1.172        1.175   \n",
       "4           3.37         11.0      13.0        1.376        1.357   \n",
       "\n",
       "   FingerArea3  ToeArea1  ToeArea2  ToeArea3  MeanFingerArea  MeanToeArea  \n",
       "0        1.339     2.529     2.402     2.369        1.332667     2.433333  \n",
       "1        0.972     1.498     1.525     1.530        0.961333     1.517667  \n",
       "2        2.685     4.157     4.140     3.996        2.631333     4.097667  \n",
       "3        1.186     1.898     1.871     1.867        1.177667     1.878667  \n",
       "4        1.420     2.627     2.435     2.529        1.384333     2.530333  "
      ]
     },
     "execution_count": 10,
     "metadata": {},
     "output_type": "execute_result"
    }
   ],
   "source": [
    "#removing the unnecessary values \n",
    "\n",
    "lizards_tsne = lizards_data_num.drop(columns = ['Hurricane', 'Origin', 'Sex'])\n",
    "lizards_tsne.head()"
   ]
  },
  {
   "cell_type": "code",
   "execution_count": 11,
   "metadata": {},
   "outputs": [
    {
     "name": "stderr",
     "output_type": "stream",
     "text": [
      "/opt/conda/lib/python3.6/site-packages/sklearn/neighbors/base.py:371: RuntimeWarning: invalid value encountered in sqrt\n",
      "  result = np.sqrt(dist[sample_range, neigh_ind]), neigh_ind\n"
     ]
    }
   ],
   "source": [
    "#scaling the data\n",
    "\n",
    "lizards_scaled = (lizards_tsne-lizards_tsne.mean())/lizards_tsne.std()\n",
    "\n",
    "#performin T-SNE on the already scaled dataset\n",
    "\n",
    "tsne = TSNE(n_components = 2, random_state = 42)\n",
    "embedded = tsne.fit_transform(lizards_scaled)"
   ]
  },
  {
   "cell_type": "code",
   "execution_count": 12,
   "metadata": {},
   "outputs": [],
   "source": [
    "#creating some lists according to the features for the plots\n",
    "\n",
    "male_female_list = list(lizards_data_modif['Sex'])\n",
    "\n",
    "hurricane_list = list(lizards_data_modif['Hurricane'])\n",
    "\n",
    "origin_list = list(lizards_data_modif['Origin'])"
   ]
  },
  {
   "cell_type": "code",
   "execution_count": 13,
   "metadata": {},
   "outputs": [
    {
     "data": {
      "image/png": "[encoded data removed]",
      "text/plain": [
       "<Figure size 1008x576 with 1 Axes>"
      ]
     },
     "metadata": {
      "needs_background": "light"
     },
     "output_type": "display_data"
    }
   ],
   "source": [
    "#let's plot the result of the T-SNE\n",
    "\n",
    "plt.figure(figsize=(14,8))\n",
    "plt.title('T-SNE values after standardizing the data according to the sex', fontsize = 18)\n",
    "\n",
    "for i in range(0,len(embedded)):\n",
    "    if male_female_list[i] == 'Female':\n",
    "        plt.plot(embedded[i][0], embedded[i][1], 'o', color = 'orange', markersize = 5)\n",
    "    else:\n",
    "        plt.plot(embedded[i][0], embedded[i][1], 'o', color = 'black', markersize = 5)\n",
    "        \n",
    "custom_lines = [Line2D([0], [0], marker='o', color='black', lw=0, markersize=15),\n",
    "                Line2D([0], [0], marker='o', color='orange', lw=0, markersize=15)]\n",
    "\n",
    "\n",
    "plt.legend(custom_lines, ['Male', 'Female'])\n",
    "\n",
    "\n",
    "plt.ylabel('T-SNE1', fontsize = 15)\n",
    "plt.xlabel('T-SNE2', fontsize = 15)\n",
    "plt.grid() \n",
    "plt.show()"
   ]
  },
  {
   "cell_type": "code",
   "execution_count": 14,
   "metadata": {},
   "outputs": [
    {
     "data": {
      "image/png": "[encoded data removed]",
      "text/plain": [
       "<Figure size 1008x576 with 1 Axes>"
      ]
     },
     "metadata": {
      "needs_background": "light"
     },
     "output_type": "display_data"
    }
   ],
   "source": [
    "#let's plot the result of the T-SNE\n",
    "\n",
    "plt.figure(figsize=(14,8))\n",
    "plt.title('T-SNE values after standardizing the data according to the hurricane status', fontsize = 18)\n",
    "\n",
    "for i in range(0,len(embedded)):\n",
    "    if hurricane_list[i] == 'Before':\n",
    "        plt.plot(embedded[i][0], embedded[i][1], 'o', color = 'orange', markersize = 5)\n",
    "    else:\n",
    "        plt.plot(embedded[i][0], embedded[i][1], 'o', color = 'black', markersize = 5)\n",
    "        \n",
    "custom_lines = [Line2D([0], [0], marker='o', color='black', lw=0, markersize=15),\n",
    "                Line2D([0], [0], marker='o', color='orange', lw=0, markersize=15)]\n",
    "\n",
    "\n",
    "plt.legend(custom_lines, ['After', 'Before'])\n",
    "\n",
    "\n",
    "plt.ylabel('T-SNE1', fontsize = 15)\n",
    "plt.xlabel('T-SNE2', fontsize = 15)\n",
    "plt.grid() \n",
    "plt.show()"
   ]
  },
  {
   "cell_type": "code",
   "execution_count": 15,
   "metadata": {},
   "outputs": [
    {
     "data": {
      "image/png": "[encoded data removed]",
      "text/plain": [
       "<Figure size 1008x576 with 1 Axes>"
      ]
     },
     "metadata": {
      "needs_background": "light"
     },
     "output_type": "display_data"
    }
   ],
   "source": [
    "#let's plot the result of the T-SNE\n",
    "\n",
    "plt.figure(figsize=(14,8))\n",
    "plt.title('T-SNE values after standardizing the data according to the location', fontsize = 18)\n",
    "\n",
    "for i in range(0,len(embedded)):\n",
    "    if origin_list[i] == 'Pine Cay':\n",
    "        plt.plot(embedded[i][0], embedded[i][1], 'o', color = 'orange', markersize = 5)\n",
    "    else:\n",
    "        plt.plot(embedded[i][0], embedded[i][1], 'o', color = 'black', markersize = 5)\n",
    "        \n",
    "custom_lines = [Line2D([0], [0], marker='o', color='black', lw=0, markersize=15),\n",
    "                Line2D([0], [0], marker='o', color='orange', lw=0, markersize=15)]\n",
    "\n",
    "\n",
    "plt.legend(custom_lines, ['Water Cay', 'Pine Cay'])\n",
    "\n",
    "\n",
    "plt.ylabel('T-SNE1', fontsize = 15)\n",
    "plt.xlabel('T-SNE2', fontsize = 15)\n",
    "plt.grid() \n",
    "plt.show()"
   ]
  },
  {
   "cell_type": "markdown",
   "metadata": {},
   "source": [
    "Conclusions of these plots: We get a significant separation according to the sex factor, however we do not get any kind of obvious separation according to the other two factors (origin and hurricane situation)."
   ]
  },
  {
   "cell_type": "markdown",
   "metadata": {},
   "source": [
    "### 3. Linear model + fine-tune\n",
    " - train and generate predictions with a logistic regression model using 5 fold cross validation\n",
    " - fine-tune the regularization strength for L2 regularization type!\n",
    " - show the ROC curve with the AUC value for the best model that you have found"
   ]
  },
  {
   "cell_type": "code",
   "execution_count": 16,
   "metadata": {},
   "outputs": [],
   "source": [
    "#transforming the values to numpy array\n",
    "\n",
    "lizards_scaled_np = lizards_scaled.to_numpy()\n",
    "lizars_scaled_list = list(lizards_scaled_np)\n",
    "\n",
    "#appending back the binary values\n",
    "\n",
    "lizars_scaled_list.append(np.array(lizards_data_num['Sex']))\n",
    "lizars_scaled_list.append(np.array(lizards_data_num['Origin']))\n",
    "\n",
    "#getting the hurricane to a list\n",
    "\n",
    "hurricane_list = list(lizards_data_num['Hurricane'])"
   ]
  },
  {
   "cell_type": "code",
   "execution_count": 17,
   "metadata": {},
   "outputs": [
    {
     "data": {
      "text/plain": [
       "array([0.76470588, 0.93939394, 0.75      , 0.84375   , 0.875     ])"
      ]
     },
     "execution_count": 17,
     "metadata": {},
     "output_type": "execute_result"
    }
   ],
   "source": [
    "#using logistic regression with 5 fold cross validation:\n",
    "\n",
    "logreg = LogisticRegression()\n",
    "pred_lg = cross_val_predict(logreg, lizards_scaled_np, hurricane_list, cv=5, method='predict_proba')\n",
    "scores_lg = cross_val_score(logreg, lizards_scaled_np, hurricane_list, cv=5)\n",
    "scores_lg"
   ]
  },
  {
   "cell_type": "code",
   "execution_count": 18,
   "metadata": {},
   "outputs": [
    {
     "name": "stdout",
     "output_type": "stream",
     "text": [
      "The accuracy: 0.83 +/- 0.14\n"
     ]
    }
   ],
   "source": [
    "print('The accuracy:', round(scores_lg.mean(),2), '+/-', round(scores_lg.std()*2,2))"
   ]
  },
  {
   "cell_type": "code",
   "execution_count": 19,
   "metadata": {
    "scrolled": true
   },
   "outputs": [
    {
     "name": "stdout",
     "output_type": "stream",
     "text": [
      "The best parameter for C is: {'C': 2.15}\n"
     ]
    }
   ],
   "source": [
    "#creating a list with c values\n",
    "\n",
    "C_values = np.linspace(1e-2, 10.0, 1000)\n",
    "\n",
    "params = {'C': C_values}\n",
    "\n",
    "#creating the model\n",
    "\n",
    "logreg_tune = LogisticRegression(penalty = 'l2')\n",
    "\n",
    "#gridsearch\n",
    "\n",
    "clf = GridSearchCV(logreg_tune, params, cv = 5, scoring = 'accuracy', return_train_score = False)\n",
    "\n",
    "#fitting\n",
    "\n",
    "clf.fit(lizards_scaled_np, hurricane_list)\n",
    "\n",
    "#getting the best parameter set\n",
    "\n",
    "print('The best parameter for C is:', clf.best_params_)"
   ]
  },
  {
   "cell_type": "code",
   "execution_count": 20,
   "metadata": {},
   "outputs": [],
   "source": [
    "#creating the logistic regression model with the appropriate parameters\n",
    "\n",
    "logreg_best = LogisticRegression(penalty = 'l2', C = clf.best_params_['C'])\n",
    "\n",
    "#creating the predictions\n",
    "\n",
    "preds_logreg = cross_val_predict(logreg_best, lizards_scaled_np, hurricane_list, cv = 5, method = 'predict_proba')"
   ]
  },
  {
   "cell_type": "code",
   "execution_count": 21,
   "metadata": {},
   "outputs": [
    {
     "data": {
      "image/png": "[encoded data removed]",
      "text/plain": [
       "<Figure size 720x432 with 1 Axes>"
      ]
     },
     "metadata": {
      "needs_background": "light"
     },
     "output_type": "display_data"
    }
   ],
   "source": [
    "fpr_rf, tpr_rf, _ = roc_curve(y_score=np.array(preds_logreg).T[1], y_true=hurricane_list)\n",
    "\n",
    "#plotting the ROC curve\n",
    "\n",
    "plt.figure(figsize=(10, 6))\n",
    "\n",
    "plt.plot(fpr_rf, tpr_rf, color = 'forestgreen', label='LogReg AUC: ' + str(np.round(roc_auc_score(y_score=np.array(preds_logreg).T[1], y_true=hurricane_list), 3)))\n",
    "\n",
    "plt.plot([0, 1], [0, 1], '--', color = 'black')\n",
    "\n",
    "plt.legend(fontsize=15)\n",
    "plt.title('ROC curve of the LogisticRegression model', fontsize = 15)\n",
    "plt.xlabel('False Positive Rate', fontsize = 15)\n",
    "plt.ylabel('True Positive Rate', fontsize = 15)\n",
    "plt.grid()\n",
    "plt.show()"
   ]
  },
  {
   "cell_type": "markdown",
   "metadata": {},
   "source": [
    "As it's seen, the AUC score is quite high!"
   ]
  },
  {
   "cell_type": "markdown",
   "metadata": {},
   "source": [
    "### 4. SVM + fine-tune\n",
    " - train and generate predictions with an SVM model using 5 fold cross validation\n",
    " - fine-tune the kernel parameters for 2 selected kernels\n",
    " - show the ROC curve with the AUC value for the best model that you have found"
   ]
  },
  {
   "cell_type": "code",
   "execution_count": 22,
   "metadata": {},
   "outputs": [
    {
     "data": {
      "text/plain": [
       "array([0.82352941, 0.84848485, 0.8125    , 0.78125   , 0.875     ])"
      ]
     },
     "execution_count": 22,
     "metadata": {},
     "output_type": "execute_result"
    }
   ],
   "source": [
    "#using logistic regression with 5 fold cross validation:\n",
    "\n",
    "model_svc = SVC(probability=True)\n",
    "pred_svc = cross_val_predict(model_svc, lizards_scaled_np, hurricane_list, cv=5, method='predict_proba')\n",
    "scores_svc = cross_val_score(model_svc, lizards_scaled_np, hurricane_list, cv=5)\n",
    "scores_svc"
   ]
  },
  {
   "cell_type": "code",
   "execution_count": 23,
   "metadata": {},
   "outputs": [
    {
     "name": "stdout",
     "output_type": "stream",
     "text": [
      "The accuracy: 0.83 +/- 0.06\n"
     ]
    }
   ],
   "source": [
    "print('The accuracy:', round(scores_svc.mean(),2), '+/-', round(scores_svc.std()*2,2))"
   ]
  },
  {
   "cell_type": "markdown",
   "metadata": {},
   "source": [
    "As it's seen, the std is much smaller than by the case of the LogisticRegression!"
   ]
  },
  {
   "cell_type": "code",
   "execution_count": 24,
   "metadata": {},
   "outputs": [
    {
     "name": "stdout",
     "output_type": "stream",
     "text": [
      "The best parameters are: {'C': 0.18000000000000002, 'shrinking': True}\n"
     ]
    }
   ],
   "source": [
    "#creating a list with c values\n",
    "\n",
    "C_values = np.linspace(1e-2, 10.0, 1000)\n",
    "shrinking = [True, False]  \n",
    "\n",
    "params = {'C': C_values, 'shrinking': shrinking}\n",
    "\n",
    "#creating the model\n",
    "\n",
    "model_svc_tune = SVC(kernel = 'linear', random_state = 42, probability = True )\n",
    "\n",
    "#gridsearch\n",
    "\n",
    "clf = GridSearchCV(model_svc_tune, params, cv = 5, scoring = 'accuracy', return_train_score = False)\n",
    "\n",
    "#fitting\n",
    "\n",
    "clf.fit(lizards_scaled_np, hurricane_list)\n",
    "\n",
    "#getting the best parameter set\n",
    "\n",
    "print('The best parameters are:', clf.best_params_)"
   ]
  },
  {
   "cell_type": "code",
   "execution_count": 25,
   "metadata": {},
   "outputs": [],
   "source": [
    "#creating the SVC model with the appropriate parameters\n",
    "\n",
    "svc_best = SVC(kernel = 'linear', random_state = 42, probability = True,C = clf.best_params_['C'], shrinking = clf.best_params_['shrinking'])\n",
    "\n",
    "#creating the predictions\n",
    "\n",
    "preds_svc = cross_val_predict(svc_best, lizards_scaled_np, hurricane_list, cv = 5, method = 'predict_proba')"
   ]
  },
  {
   "cell_type": "code",
   "execution_count": 26,
   "metadata": {},
   "outputs": [
    {
     "data": {
      "image/png": "[encoded data removed]",
      "text/plain": [
       "<Figure size 720x432 with 1 Axes>"
      ]
     },
     "metadata": {
      "needs_background": "light"
     },
     "output_type": "display_data"
    }
   ],
   "source": [
    "fpr_rf, tpr_rf, _ = roc_curve(y_score=np.array(preds_svc).T[1], y_true=hurricane_list)\n",
    "\n",
    "#plotting the ROC curve\n",
    "\n",
    "plt.figure(figsize=(10, 6))\n",
    "\n",
    "plt.plot(fpr_rf, tpr_rf, color = 'forestgreen', label='SVM AUC: ' + str(np.round(roc_auc_score(y_score=np.array(preds_svc).T[1], y_true=hurricane_list), 3)))\n",
    "\n",
    "plt.plot([0, 1], [0, 1], '--', color = 'black')\n",
    "\n",
    "plt.legend(fontsize=15)\n",
    "plt.title('ROC curve of the SVM model', fontsize = 15)\n",
    "plt.xlabel('False Positive Rate', fontsize = 15)\n",
    "plt.ylabel('True Positive Rate', fontsize = 15)\n",
    "plt.grid()\n",
    "plt.show()"
   ]
  },
  {
   "cell_type": "markdown",
   "metadata": {},
   "source": [
    "As it's seen, the AUC score is quite high in this case also!"
   ]
  },
  {
   "cell_type": "markdown",
   "metadata": {},
   "source": [
    "### 5. RF + feature importances\n",
    " - train and generate predictions with a random forest classifier model using leave 5 fold cross validation\n",
    " - show the ROC curve with the AUC value for the best model that you have found\n",
    " - train a random forest model on all the data and show the 5 most important features based on feature importances of the model"
   ]
  },
  {
   "cell_type": "code",
   "execution_count": 27,
   "metadata": {},
   "outputs": [
    {
     "data": {
      "text/plain": [
       "array([0.61764706, 0.66666667, 0.71875   , 0.59375   , 0.8125    ])"
      ]
     },
     "execution_count": 27,
     "metadata": {},
     "output_type": "execute_result"
    }
   ],
   "source": [
    "#using logistic regression with 5 fold cross validation:\n",
    "\n",
    "rf = RandomForestClassifier()\n",
    "pred_rf = cross_val_predict(rf, lizards_scaled_np, hurricane_list, cv=5, method='predict_proba')\n",
    "scores_rf = cross_val_score(rf, lizards_scaled_np, hurricane_list, cv=5)\n",
    "scores_rf"
   ]
  },
  {
   "cell_type": "code",
   "execution_count": 28,
   "metadata": {},
   "outputs": [
    {
     "name": "stdout",
     "output_type": "stream",
     "text": [
      "The accuracy: 0.68 +/- 0.16\n"
     ]
    }
   ],
   "source": [
    "print('The accuracy:', round(scores_rf.mean(),2), '+/-', round(scores_rf.std()*2,2))"
   ]
  },
  {
   "cell_type": "markdown",
   "metadata": {},
   "source": [
    "As it's seen, this is a much worse model than the previous ones. Let's fine tune the model!"
   ]
  },
  {
   "cell_type": "code",
   "execution_count": 29,
   "metadata": {},
   "outputs": [
    {
     "name": "stdout",
     "output_type": "stream",
     "text": [
      "The best parameters are: {'criterion': 'gini', 'n_estimators': 200}\n"
     ]
    }
   ],
   "source": [
    "#creating a list with the tunable values\n",
    "\n",
    "n_estimators =  [10, 50, 100,200,300]\n",
    "criterion = [\"gini\", \"entropy\"]\n",
    "\n",
    "params = {'n_estimators': n_estimators, 'criterion': criterion}\n",
    "\n",
    "#creating the model\n",
    "\n",
    "rf_tune = RandomForestClassifier(random_state = 42)\n",
    "\n",
    "#creating the gridsearch\n",
    "\n",
    "clf = GridSearchCV(rf_tune, params, cv = 5, scoring = 'accuracy', return_train_score = False)\n",
    "\n",
    "#fitting\n",
    "\n",
    "clf.fit(lizards_scaled_np, hurricane_list)\n",
    "\n",
    "#getting the best parameter set\n",
    "\n",
    "print('The best parameters are:', clf.best_params_)"
   ]
  },
  {
   "cell_type": "code",
   "execution_count": 30,
   "metadata": {},
   "outputs": [],
   "source": [
    "#creating the rf model with the appropriate parameters\n",
    "\n",
    "rf_best_params = RandomForestClassifier(random_state = 42, n_estimators = clf.best_params_['n_estimators'], criterion = clf.best_params_['criterion'])\n",
    "\n",
    "#creating the predictions\n",
    "\n",
    "preds_rf = cross_val_predict(rf_best_params, lizards_scaled_np, hurricane_list, cv = 5, method = 'predict_proba')"
   ]
  },
  {
   "cell_type": "code",
   "execution_count": 31,
   "metadata": {},
   "outputs": [
    {
     "data": {
      "image/png": "[encoded data removed]",
      "text/plain": [
       "<Figure size 720x432 with 1 Axes>"
      ]
     },
     "metadata": {
      "needs_background": "light"
     },
     "output_type": "display_data"
    }
   ],
   "source": [
    "fpr_rf, tpr_rf, _ = roc_curve(y_score=np.array(preds_rf).T[1], y_true=hurricane_list)\n",
    "\n",
    "#plotting the ROC curve\n",
    "\n",
    "plt.figure(figsize=(10, 6))\n",
    "\n",
    "plt.plot(fpr_rf, tpr_rf, color = 'forestgreen', label='Random forest AUC: ' + str(np.round(roc_auc_score(y_score=np.array(preds_rf).T[1], y_true=hurricane_list), 3)))\n",
    "\n",
    "plt.plot([0, 1], [0, 1], '--', color = 'black')\n",
    "\n",
    "plt.legend(fontsize=15)\n",
    "plt.title('ROC curve of the Random Forest model', fontsize = 15)\n",
    "plt.xlabel('False Positive Rate', fontsize = 15)\n",
    "plt.ylabel('True Positive Rate', fontsize = 15)\n",
    "plt.grid()\n",
    "plt.show()"
   ]
  },
  {
   "cell_type": "code",
   "execution_count": 32,
   "metadata": {},
   "outputs": [],
   "source": [
    "#random forest and importances\n",
    "\n",
    "rf_best_params.fit(lizards_scaled_np, hurricane_list)\n",
    "\n",
    "importances = rf_best_params.feature_importances_"
   ]
  },
  {
   "cell_type": "code",
   "execution_count": 33,
   "metadata": {},
   "outputs": [],
   "source": [
    "#creating a list of column names\n",
    "\n",
    "list_of_column_names = list(lizards_tsne.columns)\n",
    "list_of_column_names.append('Sex')\n",
    "list_of_column_names.append('Origin')\n",
    "\n",
    "#getting the indices from the importances\n",
    "\n",
    "indices = np.argsort(importances)[::-1]"
   ]
  },
  {
   "cell_type": "code",
   "execution_count": 34,
   "metadata": {},
   "outputs": [
    {
     "data": {
      "image/png": "[encoded data removed]",
      "text/plain": [
       "<Figure size 720x504 with 1 Axes>"
      ]
     },
     "metadata": {
      "needs_background": "light"
     },
     "output_type": "display_data"
    }
   ],
   "source": [
    "#plotting the barchart\n",
    "\n",
    "plt.figure(figsize = (10,7))\n",
    "\n",
    "plt.bar(range(lizards_scaled_np.shape[1]), importances[indices], color=\"firebrick\", align=\"center\")\n",
    "plt.xticks(range(lizards_scaled_np.shape[1]), list_of_column_names, rotation=45)\n",
    "\n",
    "plt.title(\"Feature importances\", fontsize = 15)\n",
    "plt.ylabel('Importance', fontsize = 15)\n",
    "plt.xlabel('Feature', fontsize = 15)\n",
    "\n",
    "plt.show()"
   ]
  }
 ],
 "metadata": {
  "kernelspec": {
   "display_name": "Python 3",
   "language": "python",
   "name": "python3"
  },
  "language_info": {
   "codemirror_mode": {
    "name": "ipython",
    "version": 3
   },
   "file_extension": ".py",
   "mimetype": "text/x-python",
   "name": "python",
   "nbconvert_exporter": "python",
   "pygments_lexer": "ipython3",
   "version": "3.6.8"
  }
 },
 "nbformat": 4,
 "nbformat_minor": 4
}
